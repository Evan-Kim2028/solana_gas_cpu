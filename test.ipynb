{
 "cells": [
  {
   "cell_type": "code",
   "execution_count": 1,
   "metadata": {},
   "outputs": [],
   "source": [
    "import json\n",
    "import polars as pl\n",
    "\n",
    "from solana.rpc.api import Client"
   ]
  },
  {
   "cell_type": "markdown",
   "metadata": {},
   "source": [
    "### Connect to Solana client"
   ]
  },
  {
   "cell_type": "code",
   "execution_count": 2,
   "metadata": {},
   "outputs": [
    {
     "name": "stdout",
     "output_type": "stream",
     "text": [
      "client connected:? True\n"
     ]
    }
   ],
   "source": [
    "# Solana public node - https://solana.com/docs/core/clusters#mainnet-beta-endpoint\n",
    "client = Client(\"https://api.mainnet-beta.solana.com\")\n",
    "\n",
    "# Function to get the latest slot\n",
    "client.is_connected()\n",
    "\n",
    "print(f'client connected:? {client.is_connected()}')"
   ]
  },
  {
   "cell_type": "code",
   "execution_count": 3,
   "metadata": {},
   "outputs": [
    {
     "name": "stdout",
     "output_type": "stream",
     "text": [
      "Latest slot: 271422909\n",
      "Epoch info: EpochInfo { epoch: 628, slot_index: 126911, slots_in_epoch: 432000, absolute_slot: 271422911, block_height: 251037620, transaction_count: Some(295104915737) }\n"
     ]
    }
   ],
   "source": [
    "# get latest slot\n",
    "latest_slot = client.get_slot(commitment=\"finalized\").value\n",
    "print(f\"Latest slot: {latest_slot}\")\n",
    "\n",
    "# get epoch info\n",
    "epoch_info = client.get_epoch_info().value\n",
    "print(f\"Epoch info: {epoch_info}\")"
   ]
  },
  {
   "cell_type": "code",
   "execution_count": 4,
   "metadata": {},
   "outputs": [],
   "source": [
    "# get a single block\n",
    "block = client.get_block(\n",
    "    slot=latest_slot, max_supported_transaction_version=0).value"
   ]
  },
  {
   "cell_type": "code",
   "execution_count": 5,
   "metadata": {},
   "outputs": [
    {
     "name": "stdout",
     "output_type": "stream",
     "text": [
      "block: dict_keys(['previousBlockhash', 'blockhash', 'parentSlot', 'transactions', 'rewards', 'blockTime', 'blockHeight'])\n"
     ]
    }
   ],
   "source": [
    "# <class 'solders.transaction_status.UiConfirmedBlock'>\n",
    "# turn into json, then turn into dictionary to read it better\n",
    "block_dict = json.loads(block.to_json())\n",
    "print('block:', block_dict.keys())"
   ]
  },
  {
   "cell_type": "markdown",
   "metadata": {},
   "source": [
    "### Calculate Fees and Priority Fees"
   ]
  },
  {
   "cell_type": "code",
   "execution_count": 7,
   "metadata": {},
   "outputs": [],
   "source": [
    "# the fee and compute units are located in meta.\n",
    "block_size = len(block_dict['transactions'])"
   ]
  },
  {
   "cell_type": "code",
   "execution_count": 8,
   "metadata": {},
   "outputs": [
    {
     "data": {
      "text/plain": [
       "1168"
      ]
     },
     "execution_count": 8,
     "metadata": {},
     "output_type": "execute_result"
    }
   ],
   "source": [
    "block_size"
   ]
  },
  {
   "cell_type": "code",
   "execution_count": 13,
   "metadata": {},
   "outputs": [],
   "source": [
    "# Collect fees and compute units into lists\n",
    "fees = []\n",
    "compute_units = []\n",
    "signatures = []\n",
    "account_keys = []\n",
    "\n",
    "# Iterate over the transactions and collect the values\n",
    "for i in range(block_size):\n",
    "    fee = block_dict['transactions'][i]['meta']['fee']\n",
    "    units_consumed = block_dict['transactions'][i]['meta']['computeUnitsConsumed']\n",
    "    block_height = block_dict['blockHeight']\n",
    "    timestamp = block_dict['blockTime']\n",
    "    signature = block_dict['transactions'][i]['transaction']['signatures']\n",
    "    account_keys.append(block_dict['transactions'][i]['transaction']['message']['accountKeys'])\n",
    "    fees.append(fee)\n",
    "    compute_units.append(units_consumed)\n",
    "    signatures.append(signature)"
   ]
  },
  {
   "cell_type": "code",
   "execution_count": 14,
   "metadata": {},
   "outputs": [],
   "source": [
    "# Create a Polars DataFrame\n",
    "df = pl.DataFrame({\n",
    "    'block_number': block_height,\n",
    "    'timestamp': timestamp,\n",
    "    'fees': fees,\n",
    "    'signatures': signatures,\n",
    "    'account_keys': account_keys,\n",
    "    'compute_units': compute_units\n",
    "})"
   ]
  },
  {
   "cell_type": "code",
   "execution_count": null,
   "metadata": {},
   "outputs": [],
   "source": [
    "# List of target accounts\n",
    "target_accounts = [\n",
    "    '96gYZGLnJYVFmbjzopPSU6QiEV5fGqZNyN9nmNhvrZU5',\n",
    "    'HFqU5x63VTqvQss8hp11i4wVV8bD44PvwucfZ2bU7gRe',\n",
    "    'Cw8CFyM9FkoMi7K7Crf6HNQqf4uEMzpKw6QNghXLvLkY',\n",
    "    'ADaUMid9yfUytqMBgopwjb2DTLSokTSzL1zt6iGPaS49',\n",
    "    'DfXygSm4jCyNCybVYYK6DwvWqjKee8pbDmJGcLWNDXjh',\n",
    "    'ADuUkR4vqLUMWXxW9gh6D6L8pMSawimctcNZ5pGwDcEt',\n",
    "    'DttWaMuVvTiduZRnguLF7jNxTgiMBZ1hyAumKUiL2KRL',\n",
    "    '3AVi9Tg9Uo68tJfuvoKvqKNWKkC5wPdSSdeBnizKZ6jT'\n",
    "]"
   ]
  },
  {
   "cell_type": "code",
   "execution_count": 20,
   "metadata": {},
   "outputs": [],
   "source": [
    "# Filter the dataframe based on the account_keys column\n",
    "filtered_df = df.filter(pl.col(\"account_keys\").list.contains('96gYZGLnJYVFmbjzopPSU6QiEV5fGqZNyN9nmNhvrZU5'))"
   ]
  },
  {
   "cell_type": "code",
   "execution_count": 21,
   "metadata": {},
   "outputs": [
    {
     "data": {
      "text/html": [
       "<div><style>\n",
       ".dataframe > thead > tr,\n",
       ".dataframe > tbody > tr {\n",
       "  text-align: right;\n",
       "  white-space: pre-wrap;\n",
       "}\n",
       "</style>\n",
       "<small>shape: (8, 6)</small><table border=\"1\" class=\"dataframe\"><thead><tr><th>block_number</th><th>timestamp</th><th>fees</th><th>signatures</th><th>account_keys</th><th>compute_units</th></tr><tr><td>i32</td><td>i32</td><td>i64</td><td>list[str]</td><td>list[str]</td><td>i64</td></tr></thead><tbody><tr><td>251037618</td><td>1718204224</td><td>5001</td><td>[&quot;5KYNSZB2pXjygfjLVPxJRhbF9ULXxbrhZezxJSavtVyGjrgLnqvJNQaKgJwS2s73ekjzXxFZNrYX8qETNwaK1ecd&quot;]</td><td>[&quot;YubozzSnKomEnH3pkmYsdatUUwUTcm7s4mHJVmefEWj&quot;, &quot;8itJ3mYW97vnbmB4ieqfwHEbEatHik4ujT8U7KKDrWmw&quot;, … &quot;C9fdYbm6pohfBWHh9bfkdyum3PCPgNmpUpyMrxXpVN6m&quot;]</td><td>55766</td></tr><tr><td>251037618</td><td>1718204224</td><td>5000</td><td>[&quot;4cwxMyGEn97VBi1B6tHdUbqbNrXcyLiqPwwX6LUj9BaFANhwFUK4mbpLohC15y7nbTQ8kj9dvamW3UTrEXs54KoV&quot;]</td><td>[&quot;arsc4jbDnzaqcCLByyGo7fg7S2SmcFsWUzQuDtLZh2y&quot;, &quot;96gYZGLnJYVFmbjzopPSU6QiEV5fGqZNyN9nmNhvrZU5&quot;, … &quot;92J8nGdH9h6QNiZV35nJjqGMAGF9s2xjZ6AyJR7crf3Q&quot;]</td><td>64465</td></tr><tr><td>251037618</td><td>1718204224</td><td>11295</td><td>[&quot;2JyhLTTkeRfMb68uZvZVU95Cb9ghvjqYAQBCtCut9rEuB2sRiM3V1mPks8nuY6fsLkbseJN2s5oSJ9nPMuDUHxCX&quot;]</td><td>[&quot;2h27AvjTUjh5ze39nLDxzx92Q38BV3Vv6Q2hQkjQEpKt&quot;, &quot;96gYZGLnJYVFmbjzopPSU6QiEV5fGqZNyN9nmNhvrZU5&quot;, … &quot;11111111111111111111111111111111&quot;]</td><td>300</td></tr><tr><td>251037618</td><td>1718204224</td><td>19000</td><td>[&quot;5pTSxMTT8XmDcbNdbQhQRSWucZUBhQs8KSR166Ki6ApvVmChcGX9HBFfzRE2ruYMHTA1YR4ZFrxRTqrZYUjagKC&quot;]</td><td>[&quot;Du7WvLvfz56qaz7WtwdXnL87k1fvw971fN3QogoBQmsW&quot;, &quot;26MNy7mN12XvfwBYaebaiFiW6K7N7yD86rWAojCgx8Zd&quot;, … &quot;TokenkegQfeZyiNwAJbNbGKPFXCWuBvf9Ss623VQ5DA&quot;]</td><td>37993</td></tr><tr><td>251037618</td><td>1718204224</td><td>5000</td><td>[&quot;5j7LLHAjCi1r5st5yXFXpDPPRt5JjCzAG2vS6UcwHpE7vyFGJnJZEdJRrHeEiBDm1qq2mUKrxDFKmBt34hzhUyKu&quot;]</td><td>[&quot;FnnXKnZThqCnJ49GEfby4kkedaHpi2b3NCk6eemjRKsZ&quot;, &quot;96gYZGLnJYVFmbjzopPSU6QiEV5fGqZNyN9nmNhvrZU5&quot;, … &quot;11111111111111111111111111111111&quot;]</td><td>300</td></tr><tr><td>251037618</td><td>1718204224</td><td>5000</td><td>[&quot;4M8VZ6JyiQvGEariMwt159SC5oqqNyfCumV5NiYCPEFUTb156eUfp3Nk5SRRejvmKZuBxWmkj4JVwGhk99o6u7qc&quot;]</td><td>[&quot;emhWqBszq4NzVY2E52rcB9zG3GvdNNDefqcXM2zoQjg&quot;, &quot;96gYZGLnJYVFmbjzopPSU6QiEV5fGqZNyN9nmNhvrZU5&quot;, … &quot;MemoSq4gqABAXKb96qnH8TysNcWxMyWCqXgDLGmfcHr&quot;]</td><td>45297</td></tr><tr><td>251037618</td><td>1718204224</td><td>6200</td><td>[&quot;42JWQr7QCKkw6dCpZtppkRqF1aAuvcJkCqZ892EKXpBhQWkQe7ZZJiba28WkmnwBP6EFPeeMtxPBuwYMQiLwR6oo&quot;]</td><td>[&quot;E7BHBjs179qwTKeURSWJyBW219B4oGfvoPqEmejztBku&quot;, &quot;EzgznB9kXZNbpLCDoTDQrNo9vJmijAmWgETYKCngfScK&quot;, … &quot;11111111111111111111111111111111&quot;]</td><td>46113</td></tr><tr><td>251037618</td><td>1718204224</td><td>5000</td><td>[&quot;mDXPavALR2XJdq64J9CQbjMGpqBX6bfdLQmcXTyncnfaJuso4J2UFAkW4s6tv1Wy6k5xGJRCKMAaqbKwJfL5Y9A&quot;]</td><td>[&quot;7V184kSoKLogz8yzRto1zUxSMT6T1EiupTea5nmGNMo7&quot;, &quot;96gYZGLnJYVFmbjzopPSU6QiEV5fGqZNyN9nmNhvrZU5&quot;, &quot;11111111111111111111111111111111&quot;]</td><td>150</td></tr></tbody></table></div>"
      ],
      "text/plain": [
       "shape: (8, 6)\n",
       "┌──────────────┬────────────┬───────┬───────────────────────┬──────────────────────┬───────────────┐\n",
       "│ block_number ┆ timestamp  ┆ fees  ┆ signatures            ┆ account_keys         ┆ compute_units │\n",
       "│ ---          ┆ ---        ┆ ---   ┆ ---                   ┆ ---                  ┆ ---           │\n",
       "│ i32          ┆ i32        ┆ i64   ┆ list[str]             ┆ list[str]            ┆ i64           │\n",
       "╞══════════════╪════════════╪═══════╪═══════════════════════╪══════════════════════╪═══════════════╡\n",
       "│ 251037618    ┆ 1718204224 ┆ 5001  ┆ [\"5KYNSZB2pXjygfjLVPx ┆ [\"YubozzSnKomEnH3pkm ┆ 55766         │\n",
       "│              ┆            ┆       ┆ JRhbF9ULX…            ┆ YsdatUUwUT…          ┆               │\n",
       "│ 251037618    ┆ 1718204224 ┆ 5000  ┆ [\"4cwxMyGEn97VBi1B6tH ┆ [\"arsc4jbDnzaqcCLByy ┆ 64465         │\n",
       "│              ┆            ┆       ┆ dUbqbNrXc…            ┆ Go7fg7S2Sm…          ┆               │\n",
       "│ 251037618    ┆ 1718204224 ┆ 11295 ┆ [\"2JyhLTTkeRfMb68uZvZ ┆ [\"2h27AvjTUjh5ze39nL ┆ 300           │\n",
       "│              ┆            ┆       ┆ VU95Cb9gh…            ┆ Dxzx92Q38B…          ┆               │\n",
       "│ 251037618    ┆ 1718204224 ┆ 19000 ┆ [\"5pTSxMTT8XmDcbNdbQh ┆ [\"Du7WvLvfz56qaz7Wtw ┆ 37993         │\n",
       "│              ┆            ┆       ┆ QRSWucZUB…            ┆ dXnL87k1fv…          ┆               │\n",
       "│ 251037618    ┆ 1718204224 ┆ 5000  ┆ [\"5j7LLHAjCi1r5st5yXF ┆ [\"FnnXKnZThqCnJ49GEf ┆ 300           │\n",
       "│              ┆            ┆       ┆ XpDPPRt5J…            ┆ by4kkedaHp…          ┆               │\n",
       "│ 251037618    ┆ 1718204224 ┆ 5000  ┆ [\"4M8VZ6JyiQvGEariMwt ┆ [\"emhWqBszq4NzVY2E52 ┆ 45297         │\n",
       "│              ┆            ┆       ┆ 159SC5oqq…            ┆ rcB9zG3Gvd…          ┆               │\n",
       "│ 251037618    ┆ 1718204224 ┆ 6200  ┆ [\"42JWQr7QCKkw6dCpZtp ┆ [\"E7BHBjs179qwTKeURS ┆ 46113         │\n",
       "│              ┆            ┆       ┆ pkRqF1aAu…            ┆ WJyBW219B4…          ┆               │\n",
       "│ 251037618    ┆ 1718204224 ┆ 5000  ┆ [\"mDXPavALR2XJdq64J9C ┆ [\"7V184kSoKLogz8yzRt ┆ 150           │\n",
       "│              ┆            ┆       ┆ QbjMGpqBX…            ┆ o1zUxSMT6T…          ┆               │\n",
       "└──────────────┴────────────┴───────┴───────────────────────┴──────────────────────┴───────────────┘"
      ]
     },
     "execution_count": 21,
     "metadata": {},
     "output_type": "execute_result"
    }
   ],
   "source": [
    "filtered_df"
   ]
  },
  {
   "cell_type": "code",
   "execution_count": null,
   "metadata": {},
   "outputs": [
    {
     "data": {
      "text/html": [
       "<div><style>\n",
       ".dataframe > thead > tr,\n",
       ".dataframe > tbody > tr {\n",
       "  text-align: right;\n",
       "  white-space: pre-wrap;\n",
       "}\n",
       "</style>\n",
       "<small>shape: (1_523, 7)</small><table border=\"1\" class=\"dataframe\"><thead><tr><th>block_number</th><th>timestamp</th><th>fees</th><th>compute_units</th><th>priority_fee</th><th>fee_per_compute_unit</th><th>datetime</th></tr><tr><td>i32</td><td>i32</td><td>i64</td><td>i64</td><td>i64</td><td>f64</td><td>datetime[μs]</td></tr></thead><tbody><tr><td>251034141</td><td>1718202627</td><td>5000</td><td>1114505</td><td>0</td><td>0.004486</td><td>2024-06-12 14:30:27</td></tr><tr><td>251034141</td><td>1718202627</td><td>5000</td><td>1113224</td><td>0</td><td>0.004491</td><td>2024-06-12 14:30:27</td></tr><tr><td>251034141</td><td>1718202627</td><td>5000</td><td>1112814</td><td>0</td><td>0.004493</td><td>2024-06-12 14:30:27</td></tr><tr><td>251034141</td><td>1718202627</td><td>5000</td><td>1112732</td><td>0</td><td>0.004493</td><td>2024-06-12 14:30:27</td></tr><tr><td>251034141</td><td>1718202627</td><td>5000</td><td>1112732</td><td>0</td><td>0.004493</td><td>2024-06-12 14:30:27</td></tr><tr><td>&hellip;</td><td>&hellip;</td><td>&hellip;</td><td>&hellip;</td><td>&hellip;</td><td>&hellip;</td><td>&hellip;</td></tr><tr><td>251034141</td><td>1718202627</td><td>403849</td><td>3759</td><td>398849</td><td>107.435222</td><td>2024-06-12 14:30:27</td></tr><tr><td>251034141</td><td>1718202627</td><td>405216</td><td>3759</td><td>400216</td><td>107.798883</td><td>2024-06-12 14:30:27</td></tr><tr><td>251034141</td><td>1718202627</td><td>416243</td><td>3759</td><td>411243</td><td>110.732376</td><td>2024-06-12 14:30:27</td></tr><tr><td>251034141</td><td>1718202627</td><td>419657</td><td>3759</td><td>414657</td><td>111.640596</td><td>2024-06-12 14:30:27</td></tr><tr><td>251034141</td><td>1718202627</td><td>2273000</td><td>8672</td><td>2268000</td><td>262.107934</td><td>2024-06-12 14:30:27</td></tr></tbody></table></div>"
      ],
      "text/plain": [
       "shape: (1_523, 7)\n",
       "┌──────────────┬────────────┬─────────┬───────────────┬──────────────┬──────────────┬──────────────┐\n",
       "│ block_number ┆ timestamp  ┆ fees    ┆ compute_units ┆ priority_fee ┆ fee_per_comp ┆ datetime     │\n",
       "│ ---          ┆ ---        ┆ ---     ┆ ---           ┆ ---          ┆ ute_unit     ┆ ---          │\n",
       "│ i32          ┆ i32        ┆ i64     ┆ i64           ┆ i64          ┆ ---          ┆ datetime[μs] │\n",
       "│              ┆            ┆         ┆               ┆              ┆ f64          ┆              │\n",
       "╞══════════════╪════════════╪═════════╪═══════════════╪══════════════╪══════════════╪══════════════╡\n",
       "│ 251034141    ┆ 1718202627 ┆ 5000    ┆ 1114505       ┆ 0            ┆ 0.004486     ┆ 2024-06-12   │\n",
       "│              ┆            ┆         ┆               ┆              ┆              ┆ 14:30:27     │\n",
       "│ 251034141    ┆ 1718202627 ┆ 5000    ┆ 1113224       ┆ 0            ┆ 0.004491     ┆ 2024-06-12   │\n",
       "│              ┆            ┆         ┆               ┆              ┆              ┆ 14:30:27     │\n",
       "│ 251034141    ┆ 1718202627 ┆ 5000    ┆ 1112814       ┆ 0            ┆ 0.004493     ┆ 2024-06-12   │\n",
       "│              ┆            ┆         ┆               ┆              ┆              ┆ 14:30:27     │\n",
       "│ 251034141    ┆ 1718202627 ┆ 5000    ┆ 1112732       ┆ 0            ┆ 0.004493     ┆ 2024-06-12   │\n",
       "│              ┆            ┆         ┆               ┆              ┆              ┆ 14:30:27     │\n",
       "│ 251034141    ┆ 1718202627 ┆ 5000    ┆ 1112732       ┆ 0            ┆ 0.004493     ┆ 2024-06-12   │\n",
       "│              ┆            ┆         ┆               ┆              ┆              ┆ 14:30:27     │\n",
       "│ …            ┆ …          ┆ …       ┆ …             ┆ …            ┆ …            ┆ …            │\n",
       "│ 251034141    ┆ 1718202627 ┆ 403849  ┆ 3759          ┆ 398849       ┆ 107.435222   ┆ 2024-06-12   │\n",
       "│              ┆            ┆         ┆               ┆              ┆              ┆ 14:30:27     │\n",
       "│ 251034141    ┆ 1718202627 ┆ 405216  ┆ 3759          ┆ 400216       ┆ 107.798883   ┆ 2024-06-12   │\n",
       "│              ┆            ┆         ┆               ┆              ┆              ┆ 14:30:27     │\n",
       "│ 251034141    ┆ 1718202627 ┆ 416243  ┆ 3759          ┆ 411243       ┆ 110.732376   ┆ 2024-06-12   │\n",
       "│              ┆            ┆         ┆               ┆              ┆              ┆ 14:30:27     │\n",
       "│ 251034141    ┆ 1718202627 ┆ 419657  ┆ 3759          ┆ 414657       ┆ 111.640596   ┆ 2024-06-12   │\n",
       "│              ┆            ┆         ┆               ┆              ┆              ┆ 14:30:27     │\n",
       "│ 251034141    ┆ 1718202627 ┆ 2273000 ┆ 8672          ┆ 2268000      ┆ 262.107934   ┆ 2024-06-12   │\n",
       "│              ┆            ┆         ┆               ┆              ┆              ┆ 14:30:27     │\n",
       "└──────────────┴────────────┴─────────┴───────────────┴──────────────┴──────────────┴──────────────┘"
      ]
     },
     "execution_count": 51,
     "metadata": {},
     "output_type": "execute_result"
    }
   ],
   "source": [
    "df.with_columns(\n",
    "    (pl.col('fees') - 5000).alias('priority_fee'),\n",
    "    (pl.col('fees') / pl.col('compute_units')).alias('fee_per_compute_unit'),\n",
    "    pl.from_epoch(pl.col('timestamp')).alias('datetime')\n",
    ").sort(by='fee_per_compute_unit')"
   ]
  }
 ],
 "metadata": {
  "kernelspec": {
   "display_name": ".venv",
   "language": "python",
   "name": "python3"
  },
  "language_info": {
   "codemirror_mode": {
    "name": "ipython",
    "version": 3
   },
   "file_extension": ".py",
   "mimetype": "text/x-python",
   "name": "python",
   "nbconvert_exporter": "python",
   "pygments_lexer": "ipython3",
   "version": "3.12.2"
  }
 },
 "nbformat": 4,
 "nbformat_minor": 2
}
